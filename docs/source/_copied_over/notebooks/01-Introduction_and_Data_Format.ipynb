{
 "cells": [
  {
   "cell_type": "markdown",
   "metadata": {},
   "source": [
    "### Introduction ###\n",
    "\n",
    "There are four decoders included in the **replay_trajectory_classification** package:\n",
    "+ `SortedSpikesDecoder`\n",
    "+ `ClusterlessDecoder`\n",
    "+ `SortedSpikesClassifier`\n",
    "+ `ClusterlessClassifier`.\n",
    "\n",
    "You can import them for use by running the following lines of code:"
   ]
  },
  {
   "cell_type": "code",
   "execution_count": 1,
   "metadata": {},
   "outputs": [],
   "source": [
    "from replay_trajectory_classification import (SortedSpikesDecoder, ClusterlessDecoder,\n",
    "                                              SortedSpikesClassifier, ClusterlessClassifier)"
   ]
  },
  {
   "cell_type": "markdown",
   "metadata": {},
   "source": [
    "If `Decoder` is in the name it indicates that a single movement model is used to decode position.\n",
    "\n",
    "If `Classifier` is in the name it means that multiple movement models are used to decode position and classify the type of movement.\n",
    "\n",
    "`SortedSpikes` and `Clusterless` indicate the type of data the decoder uses:\n",
    "+ `SortedSpikes` means the decoder takes in clustered single unit data.\n",
    "+ `Clusterless` means the decoder takes in unsorted multiunit spikes and associated spike waveform features---like those that would usually be used to spike sort such as spike width, spike amplitude, etc.\n",
    "\n",
    "\n",
    "Next, we will explore the expected data format for `SortedSpikes` and `Clusterless` decoders in turn. The both the `Decoder` and `Classifier` take the same data format.\n",
    "\n",
    "### Sorted Spikes Data Format ###\n",
    "\n",
    "We can see from the docstring of the fit function of `SortedSpikesDecoder` that there are two main variables that are required:\n",
    "+ **position** - the 1D or 2D position of the animal at each time bin\n",
    "+ **spikes** - 0 if there is no spike and 1 if there is a spike for each cell for each time bin\n",
    "\n",
    "**NOTE**: Time bins should be small (typically 1 or 2 ms)"
   ]
  },
  {
   "cell_type": "code",
   "execution_count": 2,
   "metadata": {},
   "outputs": [
    {
     "data": {
      "text/plain": [
       "\u001b[0;31mSignature:\u001b[0m \u001b[0mSortedSpikesDecoder\u001b[0m\u001b[0;34m.\u001b[0m\u001b[0mfit\u001b[0m\u001b[0;34m(\u001b[0m\u001b[0mself\u001b[0m\u001b[0;34m,\u001b[0m \u001b[0mposition\u001b[0m\u001b[0;34m,\u001b[0m \u001b[0mspikes\u001b[0m\u001b[0;34m,\u001b[0m \u001b[0mis_training\u001b[0m\u001b[0;34m=\u001b[0m\u001b[0;32mNone\u001b[0m\u001b[0;34m)\u001b[0m\u001b[0;34m\u001b[0m\u001b[0;34m\u001b[0m\u001b[0m\n",
       "\u001b[0;31mDocstring:\u001b[0m\n",
       "Parameters\n",
       "----------\n",
       "position : ndarray, shape (n_time, n_position_dims)\n",
       "spikes : ndarray, shape (n_time, n_neurons)\n",
       "is_training : None or bool ndarray, shape (n_time), optional\n",
       "    Time bins to be used for encoding.\n",
       "\n",
       "Returns\n",
       "-------\n",
       "self\n",
       "\u001b[0;31mFile:\u001b[0m      ~/Documents/Github/replay_trajectory_classification/replay_trajectory_classification/decoder.py\n",
       "\u001b[0;31mType:\u001b[0m      function\n"
      ]
     },
     "metadata": {},
     "output_type": "display_data"
    }
   ],
   "source": [
    "SortedSpikesDecoder.fit?"
   ]
  },
  {
   "cell_type": "markdown",
   "metadata": {},
   "source": [
    "#### Example Data #### \n",
    "Let's look at some simulated data to get an intuition for these data types. We simulate spikes of 19 cells with 360,000 time bins (360 seconds) of data:"
   ]
  },
  {
   "cell_type": "code",
   "execution_count": 3,
   "metadata": {},
   "outputs": [],
   "source": [
    "from replay_trajectory_classification.sorted_spikes_simulation import make_simulated_run_data\n",
    "\n",
    "time, position, sampling_frequency, spikes, place_fields = make_simulated_run_data()"
   ]
  },
  {
   "cell_type": "markdown",
   "metadata": {},
   "source": [
    "We can see that this numpy array is a matrix with time bins in the first dimension and cells on the second dimension"
   ]
  },
  {
   "cell_type": "code",
   "execution_count": 4,
   "metadata": {},
   "outputs": [
    {
     "data": {
      "text/plain": [
       "(360000, 19)"
      ]
     },
     "execution_count": 4,
     "metadata": {},
     "output_type": "execute_result"
    }
   ],
   "source": [
    "spikes.shape"
   ]
  },
  {
   "cell_type": "markdown",
   "metadata": {},
   "source": [
    "and that there is a 1 each time a cell spikes and a 0 each time there is not a spike. For example, for the first cell, there is only one spike at 17 ms in the first 100 ms of time:"
   ]
  },
  {
   "cell_type": "code",
   "execution_count": 5,
   "metadata": {},
   "outputs": [
    {
     "data": {
      "text/plain": [
       "array([0., 0., 0., 0., 0., 0., 0., 1., 0., 0., 0., 0., 0., 0., 0., 0., 0.,\n",
       "       0., 0., 0., 0., 0., 0., 0., 0., 0., 0., 0., 0., 0., 0., 0., 0., 0.,\n",
       "       0., 0., 0., 0., 1., 0., 0., 0., 0., 0., 0., 0., 0., 0., 0., 0., 0.,\n",
       "       0., 0., 0., 0., 0., 0., 0., 0., 0., 1., 0., 0., 0., 0., 0., 0., 0.,\n",
       "       0., 0., 0., 0., 0., 1., 0., 0., 0., 0., 0., 0., 0., 0., 0., 0., 0.,\n",
       "       0., 0., 0., 0., 0., 0., 0., 0., 0., 0., 0., 0., 0., 0., 0.])"
      ]
     },
     "execution_count": 5,
     "metadata": {},
     "output_type": "execute_result"
    }
   ],
   "source": [
    "spikes[:100, 0]"
   ]
  },
  {
   "cell_type": "markdown",
   "metadata": {},
   "source": [
    "We can visualize the spikes as a spike raster:"
   ]
  },
  {
   "cell_type": "code",
   "execution_count": 6,
   "metadata": {},
   "outputs": [
    {
     "data": {
      "image/png": "[encoded data removed]",
      "text/plain": [
       "<Figure size 864x360 with 1 Axes>"
      ]
     },
     "metadata": {
      "needs_background": "light"
     },
     "output_type": "display_data"
    }
   ],
   "source": [
    "import matplotlib.pyplot as plt\n",
    "import numpy as np\n",
    "import seaborn as sns\n",
    "\n",
    "fig, ax = plt.subplots(figsize=(12, 5))\n",
    "spike_ind, neuron_ind = np.nonzero(spikes)\n",
    "cmap = plt.get_cmap('tab20')\n",
    "\n",
    "c = [cmap.colors[ind] for ind in neuron_ind]\n",
    "ax.scatter(time[spike_ind], neuron_ind + 1, c=c, s=5)\n",
    "ax.set_yticks((1, spikes.shape[1]))\n",
    "ax.set_ylim((1, spikes.shape[1]))\n",
    "ax.set_ylabel('Cells')\n",
    "\n",
    "ax.set_xlabel('Time [s]')\n",
    "ax.set_xlim((0.0, 90.0))\n",
    "sns.despine(offset=5)"
   ]
  },
  {
   "cell_type": "markdown",
   "metadata": {},
   "source": [
    "We also have a position variable which has the same number of time points and has one position dimension:"
   ]
  },
  {
   "cell_type": "code",
   "execution_count": 7,
   "metadata": {},
   "outputs": [
    {
     "data": {
      "text/plain": [
       "(360000,)"
      ]
     },
     "execution_count": 7,
     "metadata": {},
     "output_type": "execute_result"
    }
   ],
   "source": [
    "position.shape"
   ]
  },
  {
   "cell_type": "markdown",
   "metadata": {},
   "source": [
    "We can plot position over time:"
   ]
  },
  {
   "cell_type": "code",
   "execution_count": 8,
   "metadata": {},
   "outputs": [
    {
     "data": {
      "image/png": "[encoded data removed]",
      "text/plain": [
       "<Figure size 432x288 with 1 Axes>"
      ]
     },
     "metadata": {
      "needs_background": "light"
     },
     "output_type": "display_data"
    }
   ],
   "source": [
    "fig, ax = plt.subplots(figsize=(6, 4))\n",
    "\n",
    "ax.plot(time, position, linewidth=2)\n",
    "ax.set_ylabel(\"Position [cm]\")\n",
    "ax.set_xlabel(\"Time [s]\")\n",
    "sns.despine(offset=5)"
   ]
  },
  {
   "cell_type": "markdown",
   "metadata": {},
   "source": [
    "#### Summary ####\n",
    "So we have two numpy arrays that contain the data we need to fit and evaluate the model:"
   ]
  },
  {
   "cell_type": "code",
   "execution_count": 9,
   "metadata": {},
   "outputs": [
    {
     "data": {
      "text/plain": [
       "(360000, 19)"
      ]
     },
     "execution_count": 9,
     "metadata": {},
     "output_type": "execute_result"
    }
   ],
   "source": [
    "spikes.shape"
   ]
  },
  {
   "cell_type": "code",
   "execution_count": 10,
   "metadata": {},
   "outputs": [
    {
     "data": {
      "text/plain": [
       "(360000,)"
      ]
     },
     "execution_count": 10,
     "metadata": {},
     "output_type": "execute_result"
    }
   ],
   "source": [
    "position.shape"
   ]
  },
  {
   "cell_type": "markdown",
   "metadata": {},
   "source": [
    "### Clusterless Data Format ###\n",
    "\n",
    "The `Clusterless` decoders take the same information as the `SortedSpikes` decoders with one exception: the actual multiunit spikes and their associated waveform features. This variable is called **multiunits** and it has time bins on the first dimension, the marks (or associated wave form features) in the second dimension, and the electrodes in the last dimension."
   ]
  },
  {
   "cell_type": "code",
   "execution_count": 11,
   "metadata": {},
   "outputs": [
    {
     "data": {
      "text/plain": [
       "\u001b[0;31mSignature:\u001b[0m \u001b[0mClusterlessDecoder\u001b[0m\u001b[0;34m.\u001b[0m\u001b[0mfit\u001b[0m\u001b[0;34m(\u001b[0m\u001b[0mself\u001b[0m\u001b[0;34m,\u001b[0m \u001b[0mposition\u001b[0m\u001b[0;34m,\u001b[0m \u001b[0mmultiunits\u001b[0m\u001b[0;34m,\u001b[0m \u001b[0mis_training\u001b[0m\u001b[0;34m=\u001b[0m\u001b[0;32mNone\u001b[0m\u001b[0;34m)\u001b[0m\u001b[0;34m\u001b[0m\u001b[0;34m\u001b[0m\u001b[0m\n",
       "\u001b[0;31mDocstring:\u001b[0m\n",
       "Parameters\n",
       "----------\n",
       "position : array_like, shape (n_time, n_position_dims)\n",
       "multiunits : array_like, shape (n_time, n_marks, n_electrodes)\n",
       "is_training : None or array_like, shape (n_time,)\n",
       "\n",
       "Returns\n",
       "-------\n",
       "self\n",
       "\u001b[0;31mFile:\u001b[0m      ~/Documents/Github/replay_trajectory_classification/replay_trajectory_classification/decoder.py\n",
       "\u001b[0;31mType:\u001b[0m      function\n"
      ]
     },
     "metadata": {},
     "output_type": "display_data"
    }
   ],
   "source": [
    "ClusterlessDecoder.fit?"
   ]
  },
  {
   "cell_type": "markdown",
   "metadata": {},
   "source": [
    "#### Example Data ####\n",
    "\n",
    "For the multiunits array, if there is no spike in a particular time bin, there are only NaNs. If there is a spike, then the values of the associated waveform feature are filled in. Let's loook at some example simulated data:"
   ]
  },
  {
   "cell_type": "code",
   "execution_count": 12,
   "metadata": {},
   "outputs": [],
   "source": [
    "from replay_trajectory_classification.clusterless_simulation import make_simulated_run_data\n",
    "\n",
    "(time, position, sampling_frequency,\n",
    " multiunits, _) = make_simulated_run_data()"
   ]
  },
  {
   "cell_type": "markdown",
   "metadata": {},
   "source": [
    "We can see that there are 350,000 time bins, 4 mark dimensions (wave form features), and 5 electrodes:"
   ]
  },
  {
   "cell_type": "code",
   "execution_count": 13,
   "metadata": {},
   "outputs": [
    {
     "data": {
      "text/plain": [
       "(350000, 4, 5)"
      ]
     },
     "execution_count": 13,
     "metadata": {},
     "output_type": "execute_result"
    }
   ],
   "source": [
    "multiunits.shape"
   ]
  },
  {
   "cell_type": "markdown",
   "metadata": {},
   "source": [
    "If we look at the first electrode, we see that there is a spike in the first time bin and then no spike for the next 9 time bins (hence they are filled with NaNs):"
   ]
  },
  {
   "cell_type": "code",
   "execution_count": 14,
   "metadata": {},
   "outputs": [
    {
     "data": {
      "text/plain": [
       "array([[nan, nan, nan, nan],\n",
       "       [nan, nan, nan, nan],\n",
       "       [nan, nan, nan, nan],\n",
       "       [nan, nan, nan, nan],\n",
       "       [nan, nan, nan, nan],\n",
       "       [nan, nan, nan, nan],\n",
       "       [nan, nan, nan, nan],\n",
       "       [nan, nan, nan, nan],\n",
       "       [nan, nan, nan, nan],\n",
       "       [nan, nan, nan, nan]])"
      ]
     },
     "execution_count": 14,
     "metadata": {},
     "output_type": "execute_result"
    }
   ],
   "source": [
    "multiunits[:10, :, 0]"
   ]
  },
  {
   "cell_type": "markdown",
   "metadata": {},
   "source": [
    "These four values represent waveform features of this electrode at the time of the spike. Likewise, if we look at the second electrode, we can see that there was no spike in the first 10 time bins."
   ]
  },
  {
   "cell_type": "code",
   "execution_count": 15,
   "metadata": {},
   "outputs": [
    {
     "data": {
      "text/plain": [
       "array([[nan, nan, nan, nan],\n",
       "       [nan, nan, nan, nan],\n",
       "       [nan, nan, nan, nan],\n",
       "       [nan, nan, nan, nan],\n",
       "       [nan, nan, nan, nan],\n",
       "       [nan, nan, nan, nan],\n",
       "       [nan, nan, nan, nan],\n",
       "       [nan, nan, nan, nan],\n",
       "       [nan, nan, nan, nan],\n",
       "       [nan, nan, nan, nan]])"
      ]
     },
     "execution_count": 15,
     "metadata": {},
     "output_type": "execute_result"
    }
   ],
   "source": [
    "multiunits[:10, :, 1]"
   ]
  },
  {
   "cell_type": "markdown",
   "metadata": {},
   "source": [
    "### Track Graph ###\n",
    "\n",
    "If you are using 1D position but want to represent an environment more complicated than a linear track, you need to constract a graph representation of the track that indicates how the 1D position can connect. We refer to this as the **track_graph**. This is done using the NetworkX package."
   ]
  },
  {
   "cell_type": "markdown",
   "metadata": {},
   "source": [
    "Now we define the x- and y-position of the nodes. The nodes are automatically named by their order:\n",
    "+ node \"0\" has position (0, 0)\n",
    "+ node \"1\" has position (1, 0)\n",
    "+ node \"2\" has position (1, 1)\n",
    "+ node \"3\" has position (0, 1)"
   ]
  },
  {
   "cell_type": "code",
   "execution_count": 16,
   "metadata": {},
   "outputs": [],
   "source": [
    "node_positions = [(0, 0), # xy position of node 0\n",
    "                  (1, 0), # xy position of node 1\n",
    "                  (1, 1), # xy position of node 2\n",
    "                  (0, 1), # xy position of node 3\n",
    "                 ]"
   ]
  },
  {
   "cell_type": "markdown",
   "metadata": {},
   "source": [
    "Then we can define how the nodes are connected by their node names. So if we want node \"0\" and node \"1\" to be connected, then we specify (0, 1)"
   ]
  },
  {
   "cell_type": "code",
   "execution_count": 17,
   "metadata": {},
   "outputs": [],
   "source": [
    "edges = [(0, 1), # connects node 0 and node 1\n",
    "         (1, 2), # connects node 1 and node 2\n",
    "         (2, 3), # connects node 2 and node 3\n",
    "        ]"
   ]
  },
  {
   "cell_type": "markdown",
   "metadata": {},
   "source": [
    "Then we can construct a graph of the track by using the function `make_track_graph`, which will return a NetworkX Graph object:"
   ]
  },
  {
   "cell_type": "code",
   "execution_count": 18,
   "metadata": {},
   "outputs": [
    {
     "data": {
      "text/plain": [
       "<networkx.classes.graph.Graph at 0x7f4359b9c9a0>"
      ]
     },
     "execution_count": 18,
     "metadata": {},
     "output_type": "execute_result"
    }
   ],
   "source": [
    "from replay_trajectory_classification import make_track_graph\n",
    "\n",
    "\n",
    "track_graph = make_track_graph(node_positions, edges)\n",
    "\n",
    "track_graph"
   ]
  },
  {
   "cell_type": "code",
   "execution_count": 19,
   "metadata": {},
   "outputs": [
    {
     "data": {
      "text/plain": [
       "NodeView((0, 1, 2, 3))"
      ]
     },
     "execution_count": 19,
     "metadata": {},
     "output_type": "execute_result"
    }
   ],
   "source": [
    "track_graph.nodes"
   ]
  },
  {
   "cell_type": "code",
   "execution_count": 20,
   "metadata": {},
   "outputs": [
    {
     "data": {
      "text/plain": [
       "EdgeView([(0, 1), (1, 2), (2, 3)])"
      ]
     },
     "execution_count": 20,
     "metadata": {},
     "output_type": "execute_result"
    }
   ],
   "source": [
    "track_graph.edges"
   ]
  },
  {
   "cell_type": "markdown",
   "metadata": {},
   "source": [
    "We can visualize the **track_graph** by using our `plot_track_graph` function:"
   ]
  },
  {
   "cell_type": "code",
   "execution_count": 21,
   "metadata": {},
   "outputs": [
    {
     "data": {
      "image/png": "[encoded data removed]",
      "text/plain": [
       "<Figure size 432x288 with 1 Axes>"
      ]
     },
     "metadata": {
      "needs_background": "light"
     },
     "output_type": "display_data"
    }
   ],
   "source": [
    "from replay_trajectory_classification import plot_track_graph\n",
    "\n",
    "fig, ax = plt.subplots()\n",
    "plot_track_graph(track_graph, ax=ax)\n",
    "ax.tick_params(left=True, bottom=True, labelleft=True, labelbottom=True)\n",
    "ax.set_xlabel(\"x-position\")\n",
    "ax.set_ylabel(\"y-position\")\n",
    "sns.despine(offset=5)"
   ]
  },
  {
   "cell_type": "markdown",
   "metadata": {},
   "source": [
    "We can change how these points are connected by changing the edges:"
   ]
  },
  {
   "cell_type": "code",
   "execution_count": 22,
   "metadata": {},
   "outputs": [
    {
     "data": {
      "image/png": "[encoded data removed]",
      "text/plain": [
       "<Figure size 432x288 with 1 Axes>"
      ]
     },
     "metadata": {
      "needs_background": "light"
     },
     "output_type": "display_data"
    }
   ],
   "source": [
    "edges = [(0, 1), # connects node 0 and node 1\n",
    "         (0, 3), # connects node 0 and node 3\n",
    "         (1, 2), # connects node 1 and node 2\n",
    "        ]\n",
    "\n",
    "track_graph = make_track_graph(node_positions, edges)\n",
    "\n",
    "fig, ax = plt.subplots()\n",
    "plot_track_graph(track_graph, ax=ax)\n",
    "ax.tick_params(left=True, bottom=True, labelleft=True, labelbottom=True)\n",
    "ax.set_xlabel(\"x-position\")\n",
    "ax.set_ylabel(\"y-position\")\n",
    "sns.despine(offset=5)"
   ]
  },
  {
   "cell_type": "markdown",
   "metadata": {},
   "source": [
    "We could also change the node positions:"
   ]
  },
  {
   "cell_type": "code",
   "execution_count": 23,
   "metadata": {},
   "outputs": [
    {
     "data": {
      "image/png": "[encoded data removed]",
      "text/plain": [
       "<Figure size 432x288 with 1 Axes>"
      ]
     },
     "metadata": {
      "needs_background": "light"
     },
     "output_type": "display_data"
    }
   ],
   "source": [
    "node_positions = [(5.5, 7), # xy position of node 0\n",
    "                  (1, -5), # xy position of node 1\n",
    "                  (1, 1), # xy position of node 2\n",
    "                  (0, 1), # xy position of node 3\n",
    "                 ]\n",
    "\n",
    "track_graph = make_track_graph(node_positions, edges)\n",
    "\n",
    "fig, ax = plt.subplots()\n",
    "plot_track_graph(track_graph, ax=ax)\n",
    "ax.tick_params(left=True, bottom=True, labelleft=True, labelbottom=True)\n",
    "ax.set_xlabel(\"x-position\")\n",
    "ax.set_ylabel(\"y-position\")\n",
    "sns.despine(offset=5)"
   ]
  },
  {
   "cell_type": "markdown",
   "metadata": {},
   "source": [
    "There are two other parameters when using `track_graph` with the decoders. These specify how the edges correspond to 1D position:\n",
    "+ **edge_order** -- The order of the edges in 1D position in terms of their node pairs e.g. (0, 1) represents the edge connecting node 0 to node 1.\n",
    "+ **edge_spacing** -- The spacing between the edges. This is necessary when edges are not connected to each other in 2D space, because the smoothing used by the model will inappropriately smooth into a non-adjacent edge. This will always be one less than the number of edges.\n",
    "\n",
    "\n",
    "For example, we might linearize the above track by doing the following by specifying the following edge order and spacing:"
   ]
  },
  {
   "cell_type": "code",
   "execution_count": 24,
   "metadata": {},
   "outputs": [],
   "source": [
    "edge_order = [(2, 1), # node 2 to node 1\n",
    "              (1, 0), # node 1 to node 0\n",
    "              (0, 3), # node 0 to node 3\n",
    "              ]\n",
    "edge_spacing = 0 # no spacing between edges"
   ]
  },
  {
   "cell_type": "markdown",
   "metadata": {},
   "source": [
    "We can visualize the linearization layout by using `plot_graph_as_1D`:"
   ]
  },
  {
   "cell_type": "code",
   "execution_count": 25,
   "metadata": {},
   "outputs": [
    {
     "data": {
      "image/png": "[encoded data removed]",
      "text/plain": [
       "<Figure size 720x72 with 1 Axes>"
      ]
     },
     "metadata": {
      "needs_background": "light"
     },
     "output_type": "display_data"
    }
   ],
   "source": [
    "from replay_trajectory_classification import plot_graph_as_1D\n",
    "\n",
    "fig, ax = plt.subplots(figsize=(10, 1))\n",
    "plot_graph_as_1D(track_graph, edge_order, edge_spacing,\n",
    "                 ax=ax)"
   ]
  },
  {
   "cell_type": "markdown",
   "metadata": {},
   "source": [
    "If we wanted, we could put spaces between each edge. For example if we want 5 cm spaces between edges:"
   ]
  },
  {
   "cell_type": "code",
   "execution_count": 26,
   "metadata": {},
   "outputs": [
    {
     "data": {
      "image/png": "[encoded data removed]",
      "text/plain": [
       "<Figure size 720x72 with 1 Axes>"
      ]
     },
     "metadata": {
      "needs_background": "light"
     },
     "output_type": "display_data"
    }
   ],
   "source": [
    "edge_order = [(2, 1), # node 2 to node 1\n",
    "              (1, 0), # node 1 to node 0\n",
    "              (0, 3), # node 0 to node 3\n",
    "              ]\n",
    "edge_spacing = 5\n",
    "\n",
    "fig, ax = plt.subplots(figsize=(10, 1))\n",
    "plot_graph_as_1D(track_graph, edge_order, edge_spacing,\n",
    "                 ax=ax)"
   ]
  },
  {
   "cell_type": "markdown",
   "metadata": {},
   "source": [
    "We can also change the spacing by depending on the edges:"
   ]
  },
  {
   "cell_type": "code",
   "execution_count": 27,
   "metadata": {},
   "outputs": [
    {
     "data": {
      "image/png": "[encoded data removed]",
      "text/plain": [
       "<Figure size 720x72 with 1 Axes>"
      ]
     },
     "metadata": {
      "needs_background": "light"
     },
     "output_type": "display_data"
    }
   ],
   "source": [
    "edge_order = [(2, 1), # node 2 to node 1\n",
    "              (1, 0), # node 1 to node 0\n",
    "              (0, 3), # node 0 to node 3\n",
    "              ]\n",
    "edge_spacing = [0, 5]\n",
    "\n",
    "fig, ax = plt.subplots(figsize=(10, 1))\n",
    "plot_graph_as_1D(track_graph, edge_order, edge_spacing,\n",
    "                 ax=ax)"
   ]
  },
  {
   "cell_type": "markdown",
   "metadata": {},
   "source": [
    "Now let's try a more complicated track, where you should put spacing in between edges:"
   ]
  },
  {
   "cell_type": "code",
   "execution_count": 28,
   "metadata": {},
   "outputs": [
    {
     "data": {
      "image/png": "[encoded data removed]",
      "text/plain": [
       "<Figure size 432x288 with 1 Axes>"
      ]
     },
     "metadata": {
      "needs_background": "light"
     },
     "output_type": "display_data"
    }
   ],
   "source": [
    "node_positions = [(-1, 1), # xy position of node 0\n",
    "                  (-1, 0), # xy position of node 1\n",
    "                  (0, 0), # xy position of node 2 *\n",
    "                  (0, 1), # xy position of node 3\n",
    "                  (1, 0), # xy position of node 4\n",
    "                  (1, 1), # xy position of node 5\n",
    "                 ]\n",
    "\n",
    "edges = [(0, 1), # connects node 0 and node 1\n",
    "         (1, 2), # connects node 1 and node 2\n",
    "         (2, 3), # connects node 2 and node 3\n",
    "         (2, 4), # connects node 2 and node 4\n",
    "         (4, 5), # connects node 4 and node 5\n",
    "        ]\n",
    "\n",
    "track_graph = make_track_graph(node_positions, edges)\n",
    "\n",
    "fig, ax = plt.subplots()\n",
    "plot_track_graph(track_graph, ax=ax, draw_edge_labels=True)\n",
    "ax.tick_params(left=True, bottom=True, labelleft=True, labelbottom=True)\n",
    "ax.set_xlabel(\"x-position\")\n",
    "ax.set_ylabel(\"y-position\")\n",
    "sns.despine(offset=5)"
   ]
  },
  {
   "cell_type": "markdown",
   "metadata": {},
   "source": [
    "In this case, the edge 2 (between nodes 2 and 3) has to be placed separately from the other edges in 1D position, so a gap is needed. One possible scheme would be:"
   ]
  },
  {
   "cell_type": "code",
   "execution_count": 29,
   "metadata": {},
   "outputs": [
    {
     "data": {
      "image/png": "[encoded data removed]",
      "text/plain": [
       "<Figure size 720x72 with 1 Axes>"
      ]
     },
     "metadata": {
      "needs_background": "light"
     },
     "output_type": "display_data"
    }
   ],
   "source": [
    "center_well_id = 3\n",
    "edge_order = [(3, 2),\n",
    "              (2, 1),\n",
    "              (1, 0),\n",
    "              (2, 4),\n",
    "              (4, 5)\n",
    "             ]\n",
    "edge_spacing = [0, 0, 1, 0]\n",
    "\n",
    "fig, ax = plt.subplots(figsize=(10, 1))\n",
    "plot_graph_as_1D(track_graph, edge_order, edge_spacing,\n",
    "                 ax=ax)"
   ]
  },
  {
   "cell_type": "markdown",
   "metadata": {},
   "source": [
    "The edge spacing is 0 between edges 2 and edges 1 because they are connected. Likewise the edge spacing is 0 between edges 1 and 0 because they are connected.\n",
    "\n",
    "**Importantly**, the edge spacing between edges 0 and 3 is 1 because edge 0 and 3 are not directly connected and we don't want to smooth positions on edge 0 onto edge 3. Note that this depends on the size of your bandwidth (for the `Clusterless` decoder) or the knot spacing (for the `SortedSpikesDecoder`).\n",
    "\n",
    "Finally let's try a track shaped like a circle."
   ]
  },
  {
   "cell_type": "code",
   "execution_count": 30,
   "metadata": {},
   "outputs": [
    {
     "data": {
      "image/png": "[encoded data removed]",
      "text/plain": [
       "<Figure size 720x720 with 1 Axes>"
      ]
     },
     "metadata": {
      "needs_background": "light"
     },
     "output_type": "display_data"
    }
   ],
   "source": [
    "angle = np.linspace(-np.pi, np.pi, num=12, endpoint=False)\n",
    "radius = 2\n",
    "\n",
    "node_positions = np.stack((radius * np.cos(angle), radius * np.sin(angle)), axis=1)\n",
    "\n",
    "node_ids = np.arange(node_positions.shape[0])\n",
    "edges = np.stack((node_ids, np.roll(node_ids, shift=1)), axis=1)\n",
    "\n",
    "track_graph = make_track_graph(node_positions, edges)\n",
    "\n",
    "fig, ax = plt.subplots(figsize=(10, 10))\n",
    "plot_track_graph(track_graph, ax=ax, draw_edge_labels=True)\n",
    "ax.tick_params(left=True, bottom=True, labelleft=True, labelbottom=True)\n",
    "ax.set_xlabel(\"x-position\")\n",
    "ax.set_ylabel(\"y-position\")\n",
    "sns.despine(offset=5)"
   ]
  },
  {
   "cell_type": "code",
   "execution_count": 31,
   "metadata": {},
   "outputs": [
    {
     "data": {
      "image/png": "[encoded data removed]",
      "text/plain": [
       "<Figure size 432x72 with 1 Axes>"
      ]
     },
     "metadata": {
      "needs_background": "light"
     },
     "output_type": "display_data"
    }
   ],
   "source": [
    "edge_spacing = 0\n",
    "n_nodes = len(track_graph.nodes)\n",
    "edge_order = np.stack((np.roll(np.arange(n_nodes-1, -1, -1), 1),\n",
    "                       np.arange(n_nodes-1, -1, -1)), axis=1)\n",
    "\n",
    "fig, ax = plt.subplots(figsize=(n_nodes // 2, 1))\n",
    "plot_graph_as_1D(track_graph,\n",
    "                 edge_spacing=edge_spacing,\n",
    "                 edge_order=edge_order,\n",
    "                 ax=ax)"
   ]
  },
  {
   "cell_type": "code",
   "execution_count": 32,
   "metadata": {},
   "outputs": [
    {
     "data": {
      "text/plain": [
       "array([[ 0, 11],\n",
       "       [11, 10],\n",
       "       [10,  9],\n",
       "       [ 9,  8],\n",
       "       [ 8,  7],\n",
       "       [ 7,  6],\n",
       "       [ 6,  5],\n",
       "       [ 5,  4],\n",
       "       [ 4,  3],\n",
       "       [ 3,  2],\n",
       "       [ 2,  1],\n",
       "       [ 1,  0]])"
      ]
     },
     "execution_count": 32,
     "metadata": {},
     "output_type": "execute_result"
    }
   ],
   "source": [
    "edge_order"
   ]
  },
  {
   "cell_type": "code",
   "execution_count": null,
   "metadata": {},
   "outputs": [],
   "source": []
  }
 ],
 "metadata": {
  "kernelspec": {
   "display_name": "Python [conda env:replay_trajectory_classification] *",
   "language": "python",
   "name": "conda-env-replay_trajectory_classification-py"
  },
  "language_info": {
   "codemirror_mode": {
    "name": "ipython",
    "version": 3
   },
   "file_extension": ".py",
   "mimetype": "text/x-python",
   "name": "python",
   "nbconvert_exporter": "python",
   "pygments_lexer": "ipython3",
   "version": "3.8.13"
  }
 },
 "nbformat": 4,
 "nbformat_minor": 4
}
