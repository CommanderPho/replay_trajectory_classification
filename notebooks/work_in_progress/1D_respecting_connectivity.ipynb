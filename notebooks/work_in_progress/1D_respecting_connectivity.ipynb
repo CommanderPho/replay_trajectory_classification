{
 "cells": [
  {
   "cell_type": "code",
   "execution_count": 1,
   "id": "a27981c6-22f3-49d0-a0e9-4ebd5a5cfe1a",
   "metadata": {},
   "outputs": [
    {
     "name": "stderr",
     "output_type": "stream",
     "text": [
      "Cupy is not installed or GPU is not detected. Ignore this message if not using GPU\n"
     ]
    }
   ],
   "source": [
    "from replay_trajectory_classification.simulate import simulate_neuron_with_place_field\n",
    "from track_linearization import get_linearized_position\n",
    "from replay_trajectory_classification import make_track_graph\n",
    "import numpy as np\n",
    "\n",
    "\n",
    "def generate_position(traversal_path, track_graph, step_size=0.020, n_traversals=5):\n",
    "    points = []\n",
    "    for _ in range(n_traversals):\n",
    "        for node1, node2 in traversal_path:\n",
    "            x1, y1 = track_graph.nodes[node1]['pos']\n",
    "            x2, y2 = track_graph.nodes[node2]['pos']\n",
    "            dx, dy = x2 - x1, y2 - y1\n",
    "            dist = np.sqrt(dx**2 + dy**2)\n",
    "            n_points = int(dist // step_size)\n",
    "            w = np.linspace(0, 1, n_points)\n",
    "            points.append((x1 + dx * w, y1 + dy * w))\n",
    "\n",
    "    return np.concatenate(points, axis=1).T\n",
    "\n",
    "def get_unique_place_field_centers(place_field_centers):\n",
    "    return np.unique((place_field_centers * 10_000).astype(int), axis=0) / 10_000\n",
    "\n",
    "def make_two_environment_data():\n",
    "    node_positions1 = [(40, 80), # 0\n",
    "                       (40, 0),  # 1\n",
    "                       (0, 0),   # 2\n",
    "                       (0, 80),  # 3\n",
    "                       (80, 0),  # 4\n",
    "                       (80, 80), # 5\n",
    "                       ]\n",
    "    edges1 = [(0, 1),\n",
    "             (1, 2),\n",
    "             (2, 3),\n",
    "             (1, 4),\n",
    "             (4, 5)\n",
    "            ]\n",
    "    track_graph1 = make_track_graph(node_positions1, edges1)\n",
    "    \n",
    "    traversal_path1 = [(0, 1), (1, 2), (2, 3), (3, 2), (2, 1), (1, 0),\n",
    "                       (0, 1), (1, 4), (4, 5), (5, 4), (4, 1), (1, 0)]\n",
    "    position1 = generate_position(traversal_path1, track_graph1)\n",
    "\n",
    "    \n",
    "    edge_order1 = ((0, 1),\n",
    "                  (1, 2),\n",
    "                  (2, 3),\n",
    "                  (1, 4),\n",
    "                  (4, 5)\n",
    "                 )\n",
    "    edge_spacing1 = (30, 0, 30, 0)\n",
    "    position_df1 = get_linearized_position(position1,\n",
    "                                           track_graph1,\n",
    "                                           edge_order=edge_order1,\n",
    "                                           edge_spacing=edge_spacing1,\n",
    "                                           use_HMM=False)\n",
    "    sampling_frequency = 1000\n",
    "\n",
    "    place_field_centers1 = generate_position(traversal_path1, track_graph1, step_size=10, n_traversals=1)\n",
    "    place_field_centers1 = get_unique_place_field_centers(place_field_centers1)\n",
    "    \n",
    "    spikes1 = np.stack([simulate_neuron_with_place_field(center, position1,\n",
    "                                                        sampling_frequency=sampling_frequency,\n",
    "                                                        variance=6.0**2)\n",
    "                       for center in place_field_centers1], axis=1)\n",
    "    \n",
    "    edges2 = [(0, 1), (1, 2), (2, 3)]\n",
    "    node_positions2 = [\n",
    "                   (0, 40),\n",
    "                   (0, 80),\n",
    "                   (0, 120),\n",
    "                   (0, 160),\n",
    "                   ]\n",
    "    \n",
    "    edge_order2 = ((0, 1), (1, 2), (2, 3))\n",
    "    edge_spacing2 = 0\n",
    "    track_graph2 = make_track_graph(node_positions2, edges2)\n",
    "    \n",
    "    traversal_path2 = [(0, 1), (1, 2), (2, 3),\n",
    "                       (3, 2), (2, 1), (1, 0)]\n",
    "    position2 = generate_position(traversal_path2, track_graph2)\n",
    "    position_df2 = get_linearized_position(position2,\n",
    "                                          track_graph2,\n",
    "                                          edge_order=edge_order2,\n",
    "                                          edge_spacing=edge_spacing2,\n",
    "                                          use_HMM=False)\n",
    "    \n",
    "    place_field_centers2 = generate_position(traversal_path2, track_graph2, step_size=10, n_traversals=1)\n",
    "    place_field_centers2 = get_unique_place_field_centers(place_field_centers2)\n",
    "    \n",
    "    spikes2_temp = np.stack([simulate_neuron_with_place_field(center, position2,\n",
    "                                                    sampling_frequency=sampling_frequency,\n",
    "                                                    variance=6.0**2)\n",
    "                   for center in place_field_centers2], axis=1)\n",
    "    spikes2 = np.zeros((spikes2_temp.shape[0], spikes1.shape[1]))\n",
    "    spikes2[:, [7, 17, 27, 4, 14, 24, 10, 1, 12, 23]] = spikes2_temp\n",
    "    \n",
    "    return (spikes1, spikes2,\n",
    "            position_df1, position_df2,\n",
    "            track_graph1, track_graph2, \n",
    "            place_field_centers1, place_field_centers2,\n",
    "            position1, position2,\n",
    "            edge_order1, edge_spacing1,\n",
    "            edge_order2, edge_spacing2\n",
    "           )"
   ]
  },
  {
   "cell_type": "code",
   "execution_count": 2,
   "id": "d0673f01-96b5-4bc8-97b3-1edca2826e3a",
   "metadata": {},
   "outputs": [],
   "source": [
    "(spikes1, spikes2,\n",
    " position_df1, position_df2,\n",
    " track_graph1, track_graph2, \n",
    " place_field_centers1, place_field_centers2,\n",
    " position1, position2,\n",
    " edge_order1, edge_spacing1,\n",
    " edge_order2, edge_spacing2,\n",
    ") = make_two_environment_data()"
   ]
  },
  {
   "cell_type": "code",
   "execution_count": 64,
   "id": "1e64c1cc-0c15-460b-adef-d406328fda07",
   "metadata": {},
   "outputs": [
    {
     "data": {
      "text/plain": [
       "Environment(environment_name='', place_bin_size=5, track_graph=<networkx.classes.graph.Graph object at 0x7ff4245505b0>, edge_order=((0, 1), (1, 2), (2, 3), (1, 4), (4, 5)), edge_spacing=(30, 0, 30, 0), is_track_interior=None, position_range=None, infer_track_interior=True)"
      ]
     },
     "execution_count": 64,
     "metadata": {},
     "output_type": "execute_result"
    }
   ],
   "source": [
    "from replay_trajectory_classification.environments import Environment\n",
    "\n",
    "env1 = Environment(\n",
    "    place_bin_size=5,\n",
    "    track_graph=track_graph1,\n",
    "    edge_order=edge_order1,\n",
    "    edge_spacing=edge_spacing1\n",
    ")\n",
    "\n",
    "env1.fit_place_grid(position=position_df1.linear_position)"
   ]
  },
  {
   "cell_type": "code",
   "execution_count": 49,
   "id": "4c8b2bd9-faf9-4f80-8bde-3613de3cec37",
   "metadata": {},
   "outputs": [
    {
     "data": {
      "image/png": "[encoded data removed]",
      "text/plain": [
       "<Figure size 504x432 with 1 Axes>"
      ]
     },
     "metadata": {
      "needs_background": "light"
     },
     "output_type": "display_data"
    }
   ],
   "source": [
    "import track_linearization\n",
    "\n",
    "fig, ax = plt.subplots(1, 1, figsize=(7, 6))\n",
    "track_linearization.plot_track_graph(track_graph1, ax=ax)\n",
    "ax.tick_params(labelleft=True, labelbottom=True)"
   ]
  },
  {
   "cell_type": "code",
   "execution_count": 28,
   "id": "5831e9fa-e837-4b30-83b8-daa526a037f1",
   "metadata": {},
   "outputs": [
    {
     "data": {
      "text/plain": [
       "array([[ 80., -80.,   0.,   0.,   0.,   0.],\n",
       "       [-80., 160., -40.,   0., -40.,   0.],\n",
       "       [  0., -40., 120., -80.,   0.,   0.],\n",
       "       [  0.,   0., -80.,  80.,   0.,   0.],\n",
       "       [  0., -40.,   0.,   0., 120., -80.],\n",
       "       [  0.,   0.,   0.,   0., -80.,  80.]])"
      ]
     },
     "execution_count": 28,
     "metadata": {},
     "output_type": "execute_result"
    }
   ],
   "source": [
    "import networkx as nx\n",
    "\n",
    "\n",
    "laplacian = nx.laplacian_matrix(track_graph1, weight='distance').toarray()\n",
    "laplacian"
   ]
  },
  {
   "cell_type": "code",
   "execution_count": 50,
   "id": "da703f71-625d-4ef0-8a16-26523b3097b6",
   "metadata": {},
   "outputs": [
    {
     "data": {
      "text/plain": [
       "array([[ 1, -1,  0,  0,  0,  0],\n",
       "       [-1,  3, -1,  0, -1,  0],\n",
       "       [ 0, -1,  2, -1,  0,  0],\n",
       "       [ 0,  0, -1,  1,  0,  0],\n",
       "       [ 0, -1,  0,  0,  2, -1],\n",
       "       [ 0,  0,  0,  0, -1,  1]])"
      ]
     },
     "execution_count": 50,
     "metadata": {},
     "output_type": "execute_result"
    }
   ],
   "source": [
    "nx.laplacian_matrix(track_graph1).toarray()"
   ]
  },
  {
   "cell_type": "code",
   "execution_count": 29,
   "id": "55fb705d-d4ae-45fd-b032-3e4189feb2af",
   "metadata": {},
   "outputs": [
    {
     "data": {
      "text/plain": [
       "array([[ 1.        , -0.70710678,  0.        ,  0.        ,  0.        ,\n",
       "         0.        ],\n",
       "       [-0.70710678,  1.        , -0.28867513,  0.        , -0.28867513,\n",
       "         0.        ],\n",
       "       [ 0.        , -0.28867513,  1.        , -0.81649658,  0.        ,\n",
       "         0.        ],\n",
       "       [ 0.        ,  0.        , -0.81649658,  1.        ,  0.        ,\n",
       "         0.        ],\n",
       "       [ 0.        , -0.28867513,  0.        ,  0.        ,  1.        ,\n",
       "        -0.81649658],\n",
       "       [ 0.        ,  0.        ,  0.        ,  0.        , -0.81649658,\n",
       "         1.        ]])"
      ]
     },
     "execution_count": 29,
     "metadata": {},
     "output_type": "execute_result"
    }
   ],
   "source": [
    "norm_laplacian = nx.normalized_laplacian_matrix(track_graph1, weight='distance').toarray()\n",
    "norm_laplacian"
   ]
  },
  {
   "cell_type": "code",
   "execution_count": 17,
   "id": "b1b33675-a562-4608-ac59-03c8332e2dd0",
   "metadata": {},
   "outputs": [
    {
     "data": {
      "text/plain": [
       "<matplotlib.collections.QuadMesh at 0x7ff4196e2040>"
      ]
     },
     "execution_count": 17,
     "metadata": {},
     "output_type": "execute_result"
    },
    {
     "data": {
      "image/png": "[encoded data removed]",
      "text/plain": [
       "<Figure size 432x288 with 1 Axes>"
      ]
     },
     "metadata": {
      "needs_background": "light"
     },
     "output_type": "display_data"
    }
   ],
   "source": [
    "plt.pcolormesh(norm_laplacian.toarray().T)"
   ]
  },
  {
   "cell_type": "code",
   "execution_count": 21,
   "id": "db90b3e3-6382-4cc9-80dd-f7c18a38e1ac",
   "metadata": {},
   "outputs": [
    {
     "data": {
      "text/plain": [
       "5"
      ]
     },
     "execution_count": 21,
     "metadata": {},
     "output_type": "execute_result"
    }
   ],
   "source": [
    "track_graph1.edges"
   ]
  },
  {
   "cell_type": "code",
   "execution_count": 23,
   "id": "b7e28f3d-f758-4673-958f-70270c4ca016",
   "metadata": {},
   "outputs": [
    {
     "data": {
      "text/plain": [
       "6"
      ]
     },
     "execution_count": 23,
     "metadata": {},
     "output_type": "execute_result"
    }
   ],
   "source": [
    "len(track_graph1.nodes)"
   ]
  },
  {
   "cell_type": "code",
   "execution_count": 24,
   "id": "071e9a28-ab50-431f-b304-8361de5de023",
   "metadata": {},
   "outputs": [
    {
     "data": {
      "text/plain": [
       "NodeView((0, 1, 2, 3, 4, 5))"
      ]
     },
     "execution_count": 24,
     "metadata": {},
     "output_type": "execute_result"
    }
   ],
   "source": [
    "track_graph1.nodes"
   ]
  },
  {
   "cell_type": "code",
   "execution_count": 90,
   "id": "1dd34364-eb71-421a-b88e-30812d6a99b0",
   "metadata": {},
   "outputs": [
    {
     "data": {
      "text/plain": [
       "array([  7,   9,  11,  13,  15,  17,  19,  21,  23,  25,  27,  29,  31,\n",
       "        33,  35,  37,  -1,  40,  42,  44,  46,  48,  50,  52,  54,  74,\n",
       "        76,  78,  80,  82,  84,  86,  88,  90,  92,  94,  96,  98, 100,\n",
       "       102, 104,  -1,  57,  59,  61,  63,  65,  67,  69,  71, 107, 109,\n",
       "       111, 113, 115, 117, 119, 121, 123, 125, 127, 129, 131, 133, 135,\n",
       "       137])"
      ]
     },
     "execution_count": 90,
     "metadata": {},
     "output_type": "execute_result"
    }
   ],
   "source": [
    "env1.place_bin_centers_nodes_df_.node_id.values"
   ]
  },
  {
   "cell_type": "code",
   "execution_count": 104,
   "id": "43d709fc-b2b6-486c-9aa1-771583a99aa9",
   "metadata": {},
   "outputs": [
    {
     "data": {
      "text/plain": [
       "<matplotlib.colorbar.Colorbar at 0x7ff42d873e80>"
      ]
     },
     "execution_count": 104,
     "metadata": {},
     "output_type": "execute_result"
    },
    {
     "data": {
      "image/png": "[encoded data removed]",
      "text/plain": [
       "<Figure size 720x720 with 2 Axes>"
      ]
     },
     "metadata": {
      "needs_background": "light"
     },
     "output_type": "display_data"
    }
   ],
   "source": [
    "plt.figure(figsize=(10, 10))\n",
    "plt.pcolormesh(\n",
    "    nx.normalized_laplacian_matrix(\n",
    "        env1.track_graph_with_bin_centers_edges_,\n",
    "        weight='distance',\n",
    "    ).toarray().T,\n",
    "    vmin=0.0,\n",
    "    vmax=1.0,\n",
    ")\n",
    "plt.colorbar()"
   ]
  },
  {
   "cell_type": "code",
   "execution_count": 83,
   "id": "856a53cf-1098-4f3b-93c6-360451f89071",
   "metadata": {},
   "outputs": [
    {
     "data": {
      "text/plain": [
       "0.0"
      ]
     },
     "execution_count": 83,
     "metadata": {},
     "output_type": "execute_result"
    }
   ],
   "source": [
    "nx.laplacian_matrix(env1.track_graph_with_bin_centers_edges_, weight='distance', nodelist=nodelist).toarray().sum()"
   ]
  },
  {
   "cell_type": "code",
   "execution_count": 96,
   "id": "2bce144c-a08c-490d-934c-a2b8873a3e08",
   "metadata": {},
   "outputs": [
    {
     "data": {
      "text/plain": [
       "<networkx.classes.graph.Graph at 0x7ff4245505b0>"
      ]
     },
     "execution_count": 96,
     "metadata": {},
     "output_type": "execute_result"
    }
   ],
   "source": [
    "env1.track_graph."
   ]
  },
  {
   "cell_type": "code",
   "execution_count": null,
   "id": "533e1d5a-972c-419b-a2ac-7ad98bd76af7",
   "metadata": {},
   "outputs": [],
   "source": []
  }
 ],
 "metadata": {
  "kernelspec": {
   "display_name": "Python [conda env:replay_trajectory_classification] *",
   "language": "python",
   "name": "conda-env-replay_trajectory_classification-py"
  },
  "language_info": {
   "codemirror_mode": {
    "name": "ipython",
    "version": 3
   },
   "file_extension": ".py",
   "mimetype": "text/x-python",
   "name": "python",
   "nbconvert_exporter": "python",
   "pygments_lexer": "ipython3",
   "version": "3.8.12"
  }
 },
 "nbformat": 4,
 "nbformat_minor": 5
}
